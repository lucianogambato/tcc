{
 "cells": [
  {
   "cell_type": "markdown",
   "metadata": {},
   "source": [
    "### Importando as Bibliotecas"
   ]
  },
  {
   "cell_type": "code",
   "execution_count": 2,
   "metadata": {},
   "outputs": [],
   "source": [
    "import pandas as pd\n",
    "import seaborn as sns\n",
    "import matplotlib.pyplot as plt"
   ]
  },
  {
   "cell_type": "markdown",
   "metadata": {},
   "source": [
    "#### Importando Dataset\n"
   ]
  },
  {
   "cell_type": "code",
   "execution_count": 3,
   "metadata": {},
   "outputs": [
    {
     "data": {
      "text/html": [
       "<div>\n",
       "<style scoped>\n",
       "    .dataframe tbody tr th:only-of-type {\n",
       "        vertical-align: middle;\n",
       "    }\n",
       "\n",
       "    .dataframe tbody tr th {\n",
       "        vertical-align: top;\n",
       "    }\n",
       "\n",
       "    .dataframe thead th {\n",
       "        text-align: right;\n",
       "    }\n",
       "</style>\n",
       "<table border=\"1\" class=\"dataframe\">\n",
       "  <thead>\n",
       "    <tr style=\"text-align: right;\">\n",
       "      <th></th>\n",
       "      <th>PAGEIOLATCH_EX</th>\n",
       "      <th>PAGEIOLATCH_UP</th>\n",
       "      <th>PAGEIOLATCH_SH</th>\n",
       "      <th>SOS_SCHEDULER_YIELD</th>\n",
       "      <th>RESOURCE_SEMAPHORE</th>\n",
       "      <th>CMEMTHREAD</th>\n",
       "      <th>IO_COMPLETION</th>\n",
       "      <th>ASYNC_IO_COMPLETION</th>\n",
       "      <th>WRITELOG</th>\n",
       "      <th>ASYNC_NETWORK_IO</th>\n",
       "      <th>DBMIRROR_SEND</th>\n",
       "      <th>problema_CPU</th>\n",
       "      <th>problema_Memoria</th>\n",
       "      <th>problema_Disco</th>\n",
       "      <th>problema_Rede</th>\n",
       "    </tr>\n",
       "  </thead>\n",
       "  <tbody>\n",
       "    <tr>\n",
       "      <th>0</th>\n",
       "      <td>0.406210</td>\n",
       "      <td>2.739246</td>\n",
       "      <td>1.831690</td>\n",
       "      <td>54.681146</td>\n",
       "      <td>0.049843</td>\n",
       "      <td>0.012967</td>\n",
       "      <td>1.354052</td>\n",
       "      <td>2.313660</td>\n",
       "      <td>6.303743</td>\n",
       "      <td>30.307441</td>\n",
       "      <td>0.0</td>\n",
       "      <td>0</td>\n",
       "      <td>0</td>\n",
       "      <td>0</td>\n",
       "      <td>0</td>\n",
       "    </tr>\n",
       "    <tr>\n",
       "      <th>1</th>\n",
       "      <td>0.330306</td>\n",
       "      <td>4.548986</td>\n",
       "      <td>2.199345</td>\n",
       "      <td>1.701899</td>\n",
       "      <td>0.000000</td>\n",
       "      <td>0.002439</td>\n",
       "      <td>0.596741</td>\n",
       "      <td>24.109382</td>\n",
       "      <td>63.215868</td>\n",
       "      <td>3.295035</td>\n",
       "      <td>0.0</td>\n",
       "      <td>0</td>\n",
       "      <td>0</td>\n",
       "      <td>0</td>\n",
       "      <td>0</td>\n",
       "    </tr>\n",
       "    <tr>\n",
       "      <th>2</th>\n",
       "      <td>0.297848</td>\n",
       "      <td>38.752369</td>\n",
       "      <td>3.987206</td>\n",
       "      <td>1.109006</td>\n",
       "      <td>0.359363</td>\n",
       "      <td>0.000062</td>\n",
       "      <td>0.294163</td>\n",
       "      <td>28.129883</td>\n",
       "      <td>12.683804</td>\n",
       "      <td>14.386296</td>\n",
       "      <td>0.0</td>\n",
       "      <td>0</td>\n",
       "      <td>0</td>\n",
       "      <td>0</td>\n",
       "      <td>0</td>\n",
       "    </tr>\n",
       "    <tr>\n",
       "      <th>3</th>\n",
       "      <td>0.065803</td>\n",
       "      <td>2.187113</td>\n",
       "      <td>1.430399</td>\n",
       "      <td>8.850760</td>\n",
       "      <td>2.977628</td>\n",
       "      <td>0.161212</td>\n",
       "      <td>2.486774</td>\n",
       "      <td>0.035845</td>\n",
       "      <td>18.321730</td>\n",
       "      <td>63.482736</td>\n",
       "      <td>0.0</td>\n",
       "      <td>0</td>\n",
       "      <td>0</td>\n",
       "      <td>0</td>\n",
       "      <td>0</td>\n",
       "    </tr>\n",
       "    <tr>\n",
       "      <th>4</th>\n",
       "      <td>0.526615</td>\n",
       "      <td>70.980177</td>\n",
       "      <td>3.914927</td>\n",
       "      <td>9.262656</td>\n",
       "      <td>0.068843</td>\n",
       "      <td>0.032791</td>\n",
       "      <td>1.376064</td>\n",
       "      <td>2.504878</td>\n",
       "      <td>7.296100</td>\n",
       "      <td>4.036949</td>\n",
       "      <td>0.0</td>\n",
       "      <td>0</td>\n",
       "      <td>0</td>\n",
       "      <td>0</td>\n",
       "      <td>0</td>\n",
       "    </tr>\n",
       "  </tbody>\n",
       "</table>\n",
       "</div>"
      ],
      "text/plain": [
       "   PAGEIOLATCH_EX  PAGEIOLATCH_UP  PAGEIOLATCH_SH  SOS_SCHEDULER_YIELD  \\\n",
       "0        0.406210        2.739246        1.831690            54.681146   \n",
       "1        0.330306        4.548986        2.199345             1.701899   \n",
       "2        0.297848       38.752369        3.987206             1.109006   \n",
       "3        0.065803        2.187113        1.430399             8.850760   \n",
       "4        0.526615       70.980177        3.914927             9.262656   \n",
       "\n",
       "   RESOURCE_SEMAPHORE  CMEMTHREAD  IO_COMPLETION  ASYNC_IO_COMPLETION  \\\n",
       "0            0.049843    0.012967       1.354052             2.313660   \n",
       "1            0.000000    0.002439       0.596741            24.109382   \n",
       "2            0.359363    0.000062       0.294163            28.129883   \n",
       "3            2.977628    0.161212       2.486774             0.035845   \n",
       "4            0.068843    0.032791       1.376064             2.504878   \n",
       "\n",
       "    WRITELOG  ASYNC_NETWORK_IO  DBMIRROR_SEND  problema_CPU  problema_Memoria  \\\n",
       "0   6.303743         30.307441            0.0             0                 0   \n",
       "1  63.215868          3.295035            0.0             0                 0   \n",
       "2  12.683804         14.386296            0.0             0                 0   \n",
       "3  18.321730         63.482736            0.0             0                 0   \n",
       "4   7.296100          4.036949            0.0             0                 0   \n",
       "\n",
       "   problema_Disco  problema_Rede  \n",
       "0               0              0  \n",
       "1               0              0  \n",
       "2               0              0  \n",
       "3               0              0  \n",
       "4               0              0  "
      ]
     },
     "execution_count": 3,
     "metadata": {},
     "output_type": "execute_result"
    }
   ],
   "source": [
    "waits = pd.read_csv(\"amostra_V1.csv\", sep=';')\n",
    "\n",
    "waits.head()"
   ]
  },
  {
   "cell_type": "markdown",
   "metadata": {},
   "source": [
    "#### Informações sobre o Dataset"
   ]
  },
  {
   "cell_type": "code",
   "execution_count": 4,
   "metadata": {},
   "outputs": [
    {
     "name": "stdout",
     "output_type": "stream",
     "text": [
      "<class 'pandas.core.frame.DataFrame'>\n",
      "RangeIndex: 35 entries, 0 to 34\n",
      "Data columns (total 15 columns):\n",
      " #   Column               Non-Null Count  Dtype  \n",
      "---  ------               --------------  -----  \n",
      " 0   PAGEIOLATCH_EX       35 non-null     float64\n",
      " 1   PAGEIOLATCH_UP       35 non-null     float64\n",
      " 2   PAGEIOLATCH_SH       35 non-null     float64\n",
      " 3   SOS_SCHEDULER_YIELD  35 non-null     float64\n",
      " 4   RESOURCE_SEMAPHORE   35 non-null     float64\n",
      " 5   CMEMTHREAD           35 non-null     float64\n",
      " 6   IO_COMPLETION        35 non-null     float64\n",
      " 7   ASYNC_IO_COMPLETION  35 non-null     float64\n",
      " 8   WRITELOG             35 non-null     float64\n",
      " 9   ASYNC_NETWORK_IO     35 non-null     float64\n",
      " 10  DBMIRROR_SEND        35 non-null     float64\n",
      " 11  problema_CPU         35 non-null     int64  \n",
      " 12  problema_Memoria     35 non-null     int64  \n",
      " 13  problema_Disco       35 non-null     int64  \n",
      " 14  problema_Rede        35 non-null     int64  \n",
      "dtypes: float64(11), int64(4)\n",
      "memory usage: 4.2 KB\n"
     ]
    }
   ],
   "source": [
    "waits.info()"
   ]
  },
  {
   "cell_type": "code",
   "execution_count": 5,
   "metadata": {},
   "outputs": [
    {
     "data": {
      "image/png": "[encoded data removed]",
      "text/plain": [
       "<Figure size 432x288 with 1 Axes>"
      ]
     },
     "metadata": {
      "needs_background": "light"
     },
     "output_type": "display_data"
    }
   ],
   "source": [
    "waits = waits[['PAGEIOLATCH_EX', 'PAGEIOLATCH_UP', 'PAGEIOLATCH_SH',\n",
    "       'SOS_SCHEDULER_YIELD', 'RESOURCE_SEMAPHORE', 'CMEMTHREAD',\n",
    "       'IO_COMPLETION', 'ASYNC_IO_COMPLETION', 'WRITELOG', 'ASYNC_NETWORK_IO'\n",
    "       ]]\n",
    "\n",
    "sns.scatterplot(data=waits)\n",
    "plt.show()"
   ]
  }
 ],
 "metadata": {
  "interpreter": {
   "hash": "62b7f0c88339b1bcd522859d049468d88f4291e04fa5a2a78205063f8f4f92f3"
  },
  "kernelspec": {
   "display_name": "Python 3.9.6 64-bit",
   "language": "python",
   "name": "python3"
  },
  "language_info": {
   "codemirror_mode": {
    "name": "ipython",
    "version": 3
   },
   "file_extension": ".py",
   "mimetype": "text/x-python",
   "name": "python",
   "nbconvert_exporter": "python",
   "pygments_lexer": "ipython3",
   "version": "3.9.6"
  },
  "orig_nbformat": 4
 },
 "nbformat": 4,
 "nbformat_minor": 2
}
