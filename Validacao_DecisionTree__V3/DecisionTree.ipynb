{
 "cells": [
  {
   "cell_type": "markdown",
   "metadata": {},
   "source": [
    "#### Importando Bibliotecas"
   ]
  },
  {
   "cell_type": "code",
   "execution_count": 77,
   "metadata": {},
   "outputs": [],
   "source": [
    "import matplotlib.pyplot as plt\n",
    "from sklearn.metrics import accuracy_score\n",
    "import pickle"
   ]
  },
  {
   "cell_type": "markdown",
   "metadata": {},
   "source": [
    "#### Lendo o Modelo Treinado"
   ]
  },
  {
   "cell_type": "code",
   "execution_count": 78,
   "metadata": {},
   "outputs": [
    {
     "name": "stderr",
     "output_type": "stream",
     "text": [
      "c:\\Users\\luciano.gambato.CDB\\AppData\\Local\\Programs\\Python\\Python310\\lib\\site-packages\\sklearn\\base.py:329: UserWarning: Trying to unpickle estimator DecisionTreeClassifier from version 1.1.1 when using version 1.1.3. This might lead to breaking code or invalid results. Use at your own risk. For more info please refer to:\n",
      "https://scikit-learn.org/stable/model_persistence.html#security-maintainability-limitations\n",
      "  warnings.warn(\n"
     ]
    }
   ],
   "source": [
    "model__V3 = pickle.load(open('DecisionTree__V3.pkl','rb'))"
   ]
  },
  {
   "cell_type": "markdown",
   "metadata": {},
   "source": [
    "#### Criando Entradas Artificiais"
   ]
  },
  {
   "cell_type": "markdown",
   "metadata": {},
   "source": [
    "##### Problema CPU"
   ]
  },
  {
   "cell_type": "code",
   "execution_count": 79,
   "metadata": {},
   "outputs": [],
   "source": [
    "X_test1 = [[\n",
    "    0.0283848510261, #PAGEIOLATCH_EX\n",
    "    17.6120305012728,#PAGEIOLATCH_UP\n",
    "    2.5970543537930, #PAGEIOLATCH_SH\n",
    "    42.6067537547591, #SOS_SCHEDULER_YIELD\n",
    "    0.0023592008991,#RESOURCE_SEMAPHORE\n",
    "    10.0276436882406, #CMEMTHREAD\n",
    "    10.1243790103772, #IO_COMPLETION\n",
    "    0.5233541697121, #ASYNC_IO_COMPLETION\n",
    "    0.6625618274018, #WRITELOG\n",
    "    15.8154786425182, #ASYNC_NETWORK_IO\n",
    "    0.0000000000000  #DBMIRROR_SEND\n",
    "]]\n",
    "\n",
    "y_test1 = [[\n",
    "    1, #problema_CPU\n",
    "    0, #problema_Memoria\n",
    "    0, #problema_Disco\n",
    "    0  #problema_Rede\n",
    "]]"
   ]
  },
  {
   "cell_type": "markdown",
   "metadata": {},
   "source": [
    "##### Problema Disco"
   ]
  },
  {
   "cell_type": "code",
   "execution_count": 80,
   "metadata": {},
   "outputs": [],
   "source": [
    "X_test2 = [[\n",
    "    0.3352729474713, #PAGEIOLATCH_EX\n",
    "    4.0345868741968,#PAGEIOLATCH_UP\n",
    "    62.7819854214617, #PAGEIOLATCH_SH\n",
    "    1.9785216455868, #SOS_SCHEDULER_YIELD\n",
    "    0.0000000000000,#RESOURCE_SEMAPHORE\n",
    "    0.0025061824252, #CMEMTHREAD\n",
    "    0.5103309951109, #IO_COMPLETION\n",
    "    24.8027126499027, #ASYNC_IO_COMPLETION\n",
    "    2.1796059577083, #WRITELOG\n",
    "    3.3744773261363, #ASYNC_NETWORK_IO\n",
    "    0.0000000000000  #DBMIRROR_SEND\n",
    "]]\n",
    "\n",
    "y_test2 = [[\n",
    "    0, #problema_CPU\n",
    "    0, #problema_Memoria\n",
    "    1, #problema_Disco\n",
    "    0  #problema_Rede\n",
    "]]"
   ]
  },
  {
   "cell_type": "markdown",
   "metadata": {},
   "source": [
    "##### Problema Memória"
   ]
  },
  {
   "cell_type": "code",
   "execution_count": 81,
   "metadata": {},
   "outputs": [],
   "source": [
    "X_test3 = [[\n",
    "    0.2025741541756, #PAGEIOLATCH_EX\n",
    "    0.3432584967200,#PAGEIOLATCH_UP\n",
    "    12.9171362119673, #PAGEIOLATCH_SH\n",
    "    31.6730665479480, #SOS_SCHEDULER_YIELD\n",
    "    52.7411493026784 ,#RESOURCE_SEMAPHORE\n",
    "    0.0010837746309, #CMEMTHREAD\n",
    "    0.0000000000000, #IO_COMPLETION\n",
    "    0.2000041040000, #ASYNC_IO_COMPLETION\n",
    "    1.4647535427501, #WRITELOG\n",
    "    0.0575684878985, #ASYNC_NETWORK_IO\n",
    "    0.3994053772312  #DBMIRROR_SEND\n",
    "]]\n",
    "\n",
    "y_test3 = [[\n",
    "    0, #problema_CPU\n",
    "    1, #problema_Memoria\n",
    "    0, #problema_Disco\n",
    "    0  #problema_Rede\n",
    "]]"
   ]
  },
  {
   "cell_type": "markdown",
   "metadata": {},
   "source": [
    "##### Problema Rede"
   ]
  },
  {
   "cell_type": "code",
   "execution_count": 82,
   "metadata": {},
   "outputs": [],
   "source": [
    "X_test4 = [[\n",
    "    0.0459444479471, #PAGEIOLATCH_EX\n",
    "    3.5332762031777,#PAGEIOLATCH_UP\n",
    "    19.0750749045936, #PAGEIOLATCH_SH\n",
    "    0.0991831331225, #SOS_SCHEDULER_YIELD\n",
    "    0.3984321065626,#RESOURCE_SEMAPHORE\n",
    "    0.8856213701462, #CMEMTHREAD\n",
    "    0.0000000000000, #IO_COMPLETION\n",
    "    0.2153565513557, #ASYNC_IO_COMPLETION\n",
    "    4.1576519012617, #WRITELOG\n",
    "    47.7038380116867, #ASYNC_NETWORK_IO\n",
    "    23.8856213701462  #DBMIRROR_SEND\n",
    "]]\n",
    "\n",
    "y_test4 = [[\n",
    "    0, #problema_CPU\n",
    "    0, #problema_Memoria\n",
    "    0, #problema_Disco\n",
    "    1  #problema_Rede\n",
    "]]"
   ]
  },
  {
   "cell_type": "markdown",
   "metadata": {},
   "source": [
    "#### Validando dados no Modelo"
   ]
  },
  {
   "cell_type": "markdown",
   "metadata": {},
   "source": [
    "##### Problema CPU"
   ]
  },
  {
   "cell_type": "code",
   "execution_count": 83,
   "metadata": {},
   "outputs": [
    {
     "name": "stdout",
     "output_type": "stream",
     "text": [
      "Acurácia (model__V3): 100%\n"
     ]
    }
   ],
   "source": [
    "pred_model__V3 = model__V3.predict(X_test1)\n",
    "print('Acurácia (model__V3): {:.0%}'.format(accuracy_score(y_test1, pred_model__V3)))"
   ]
  },
  {
   "cell_type": "markdown",
   "metadata": {},
   "source": [
    "##### Problema Disco"
   ]
  },
  {
   "cell_type": "code",
   "execution_count": 84,
   "metadata": {},
   "outputs": [
    {
     "name": "stdout",
     "output_type": "stream",
     "text": [
      "\n",
      "\n",
      "Acurácia (model__V3): 100%\n"
     ]
    }
   ],
   "source": [
    "pred_model__V3 = model__V3.predict(X_test2)\n",
    "print('\\n\\nAcurácia (model__V3): {:.0%}'.format(accuracy_score(y_test2, pred_model__V3)))"
   ]
  },
  {
   "cell_type": "markdown",
   "metadata": {},
   "source": [
    "##### Problema Memória"
   ]
  },
  {
   "cell_type": "code",
   "execution_count": 85,
   "metadata": {},
   "outputs": [
    {
     "name": "stdout",
     "output_type": "stream",
     "text": [
      "\n",
      "\n",
      "Acurácia (model__V3): 0%\n"
     ]
    }
   ],
   "source": [
    "pred_model__V3 = model__V3.predict(X_test3)\n",
    "print('\\n\\nAcurácia (model__V3): {:.0%}'.format(accuracy_score(y_test3, pred_model__V3)))"
   ]
  },
  {
   "cell_type": "markdown",
   "metadata": {},
   "source": [
    "##### Problema Rede"
   ]
  },
  {
   "cell_type": "code",
   "execution_count": 86,
   "metadata": {},
   "outputs": [
    {
     "name": "stdout",
     "output_type": "stream",
     "text": [
      "\n",
      "\n",
      "Acurácia (model__V3): 100%\n"
     ]
    }
   ],
   "source": [
    "pred_model__V3 = model__V3.predict(X_test4)\n",
    "print('\\n\\nAcurácia (model__V3): {:.0%}'.format(accuracy_score(y_test4, pred_model__V3)))"
   ]
  }
 ],
 "metadata": {
  "kernelspec": {
   "display_name": "Python 3.10.8 64-bit",
   "language": "python",
   "name": "python3"
  },
  "language_info": {
   "codemirror_mode": {
    "name": "ipython",
    "version": 3
   },
   "file_extension": ".py",
   "mimetype": "text/x-python",
   "name": "python",
   "nbconvert_exporter": "python",
   "pygments_lexer": "ipython3",
   "version": "3.10.8"
  },
  "orig_nbformat": 4,
  "vscode": {
   "interpreter": {
    "hash": "52db26a72570529e096d9e06ae40fc7699fd4cc837159b2e874860667d7a4d1b"
   }
  }
 },
 "nbformat": 4,
 "nbformat_minor": 2
}
